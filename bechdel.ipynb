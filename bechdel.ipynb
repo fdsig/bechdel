{
 "cells": [
  {
   "cell_type": "code",
   "execution_count": 158,
   "id": "66a704df",
   "metadata": {},
   "outputs": [
    {
     "name": "stdout",
     "output_type": "stream",
     "text": [
      "here\n",
      "sldkfjdummykey\n",
      "> \u001b[31m\u001b[1mERROR   ❌ Failed to authenticate. Check the passed token is valid!\u001b[0m\n",
      "> \u001b[31m\u001b[1mERROR   ❌ Oops! Something failed in AutoNLP backend..\u001b[0m\n",
      "> \u001b[31m\u001b[1mERROR   Error code: 401; Details: '{\"error\":\"Unauthorized\"}'\u001b[0m\n",
      "Model trianing using autonlp (hugging face api)\n"
     ]
    }
   ],
   "source": [
    "# for interest, here is how I would make this a software project\n",
    "# training classifier using hugging face api (high, high level nlp)\n",
    "# then classifying script text content\n",
    "# dataset and csv are fomatted and ready to go for api (as in this sofware works)\n",
    "# will need a valid hugging face api to work- (will fail but illustrates working code) \n",
    "!python3 main.py --hugging_face --login --api_key sldkfjdummykey\n"
   ]
  },
  {
   "cell_type": "markdown",
   "id": "e21d0b71",
   "metadata": {},
   "source": [
    "####  Here is the software verison with and args parser that I wrote as an example of using hugging face api to train a binary text classifier and an illustration of how I would approach this problem as a piece of end to end software that runs in terminal"
   ]
  },
  {
   "cell_type": "code",
   "execution_count": 159,
   "id": "668c57e9",
   "metadata": {},
   "outputs": [
    {
     "name": "stdout",
     "output_type": "stream",
     "text": [
      "usage: main.py [-h] [--input csv INPUT CSV] [--project PROJECT]\n",
      "               [--split SPLIT] [--col_mapping COL_MAPPING] [--files FILES]\n",
      "               [--api_key API_KEY] [--resize RESIZE] [--name NAME]\n",
      "               [--language LANGUAGE] [--task TASK] [--max_models MAX_MODELS]\n",
      "               [--create_project] [--hugging_face] [--send] [--login] [--make]\n",
      "               [--train]\n",
      "\n",
      "Training Calssifier\n",
      "\n",
      "optional arguments:\n",
      "  -h, --help            show this help message and exit\n",
      "  --input csv INPUT CSV\n",
      "                        relative loacation of input csv for training\n",
      "  --project PROJECT     poject name\n",
      "  --split SPLIT         dataset split\n",
      "  --col_mapping COL_MAPPING\n",
      "                        text:text, label:target\n",
      "  --files FILES         formated csv only 2 colls one for text one for target\n",
      "  --api_key API_KEY     api key from hugging_face account\n",
      "  --resize RESIZE       Resizes images by percentage as scalar\n",
      "  --name NAME           project name hugging face\n",
      "  --language LANGUAGE   lang in eg [en,sp,fr]\n",
      "  --task TASK           Resizes images by percentage as scalar\n",
      "  --max_models MAX_MODELS\n",
      "                        nuber of trainable models\n",
      "  --create_project      create_new hf project\n",
      "  --hugging_face        uses hugging face api to train model\n",
      "  --send                if entered will try to sen .csv\n",
      "  --login               if entered will try to sen .csv\n",
      "  --make                create_new hf project\n",
      "  --train               create_new hf project\n"
     ]
    }
   ],
   "source": [
    "# to show you what the args parser -help would return of this sofware \n",
    "!python3 main.py --help"
   ]
  },
  {
   "cell_type": "code",
   "execution_count": 160,
   "id": "714f33ae",
   "metadata": {},
   "outputs": [],
   "source": [
    "#files\n",
    "import gdown \n",
    "import os\n",
    "import zipfile\n",
    "\n",
    "#data \n",
    "import pandas as pd\n",
    "import numpy as np\n",
    "import matplotlib.pyplot as plt\n",
    "\n",
    "# utils\n",
    "from pathlib import Path\n",
    "import time\n",
    "from tqdm import tqdm\n",
    "\n",
    "# web\n",
    "import urllib.request\n",
    "import requests\n",
    "from bs4 import BeautifulSoup\n",
    "\n",
    "# evaluation metrics\n",
    "from scipy import stats\n",
    "from scipy.spatial import distance\n",
    "from sklearn.metrics import matthews_corrcoef\n",
    "from sklearn.metrics import confusion_matrix"
   ]
  },
  {
   "cell_type": "markdown",
   "id": "a914547c",
   "metadata": {},
   "source": [
    "### Start time"
   ]
  },
  {
   "cell_type": "code",
   "execution_count": 161,
   "id": "c933c023",
   "metadata": {},
   "outputs": [
    {
     "data": {
      "text/plain": [
       "'20:46:46'"
      ]
     },
     "execution_count": 161,
     "metadata": {},
     "output_type": "execute_result"
    }
   ],
   "source": [
    "#starting time\n",
    "time.strftime(\"%H:%M:%S\", time.localtime())"
   ]
  },
  {
   "cell_type": "code",
   "execution_count": 195,
   "id": "d0e732c6",
   "metadata": {},
   "outputs": [
    {
     "name": "stdout",
     "output_type": "stream",
     "text": [
      "README.md        main.py          \u001b[34mscripts_html\u001b[m\u001b[m\r\n",
      "bechdel.ipynb    \u001b[34mpre_scraped\u001b[m\u001b[m      scripts_html.zip\r\n",
      "classifier.py    requirments.txt  super_woman.png\r\n"
     ]
    }
   ],
   "source": [
    "!ls\n"
   ]
  },
  {
   "cell_type": "markdown",
   "id": "d5733549",
   "metadata": {},
   "source": [
    "\n",
    "\n",
    "<img src=\"super_woman.png\" width=50 height=50 />\n",
    "\n",
    "## **preamble**\n",
    "**bechdel criteria:**\n",
    "- 1. [x] (of film or literature) Has to have at least two women (discrete int) or $\\in \\mathbb{Z}$\n",
    "- 2. [x] Talk to each other in (continuous time) or $\\in \\mathbb{R}$\n",
    "- 3. [x] Talk about somthing other than a man (not.self) (binary) or $\\in \\mathbb{B}$ \n",
    " \n",
    " \n",
    "> here the problem is framed as one of comparing those that meet first condition with two different consecutive female first names in script segments and verifieable ground truth - that is the first condition a prediction of passing overall -- this is to gauge whether more detailed anaylis might be needed such as training an NLP classifier. "
   ]
  },
  {
   "cell_type": "code",
   "execution_count": 200,
   "id": "8fa8ee8f",
   "metadata": {},
   "outputs": [
    {
     "name": "stderr",
     "output_type": "stream",
     "text": [
      "Retrieving folder list\n"
     ]
    },
    {
     "name": "stdout",
     "output_type": "stream",
     "text": [
      "Processing file 1sKXHb17Ah6Bl6nVMCUE--SnCGV-rvlzk scripts_html.zip\n",
      "Building directory structure completed\n"
     ]
    },
    {
     "name": "stderr",
     "output_type": "stream",
     "text": [
      "Retrieving folder list completed\n",
      "Building directory structure\n",
      "Downloading...\n",
      "From: https://drive.google.com/uc?id=1sKXHb17Ah6Bl6nVMCUE--SnCGV-rvlzk\n",
      "To: /Users/fridades/Projects/bechdel/scripts_html.zip\n",
      "100%|██████████████████████████████████████| 16.1M/16.1M [00:01<00:00, 8.99MB/s]\n",
      "Download completed\n",
      "100%|█████████████████████████████████████████| 282/282 [00:16<00:00, 17.12it/s]\n"
     ]
    }
   ],
   "source": [
    "def get_scripts(did=None):\n",
    "    '''this funciton gets scripts using gdown from google drive zip\n",
    "    unzips and preservs file name'''\n",
    "    url = 'https://drive.google.com/drive/folders/1PWoip6Hkl-3WG9Syyd_IxOPeC-FsshDP?usp=sharing'\n",
    "    os.makedirs(did,exist_ok=True)\n",
    "    gdown.download_folder(url,output=None,quiet=False)\n",
    "    fid = Path('scripts_html.zip')\n",
    "    with zipfile.ZipFile(fid, 'r') as zip_fid:\n",
    "        zip_fid.extractall(fid.parent)\n",
    "# path to scripts \n",
    "did = Path('pre_scraped/')\n",
    "os.makedirs(did,exist_ok=True)\n",
    "get_scripts(did)\n",
    "did = Path('scripts_html/')\n",
    "# using path object as itterator to ge file in directory\n",
    "fids = [fid for fid in did.iterdir()]\n",
    "scripts = { }\n",
    "for fid in tqdm(fids):\n",
    "    with open(fid,'r') as handle:\n",
    "        scripts[fid.name.strip(fid.suffix)]=BeautifulSoup(handle, 'html.parser')"
   ]
  },
  {
   "cell_type": "code",
   "execution_count": 194,
   "id": "87d6a342",
   "metadata": {},
   "outputs": [],
   "source": [
    "def clean(script):\n",
    "    script = [element for element in script.find_all('b')]\n",
    "   \n",
    "    script = [element.get_text() for element in script]\n",
    " \n",
    "    script = [\" \".join(element.split()) for element in script\n",
    "              if \" \".join(element.split()) !='']\n",
    "    return [element.upper() for element in script]\n",
    "\n",
    "# make dict for ease of manipulation later and if need to save as .json\n",
    "names_dict = {script:clean(scripts[script]) for script in scripts}\n",
    "names_dict = {key.strip(', The').upper():names_dict[key] for key in names_dict}\n",
    "#clean names and make upper\n"
   ]
  },
  {
   "cell_type": "code",
   "execution_count": 167,
   "id": "24109a92",
   "metadata": {},
   "outputs": [
    {
     "name": "stderr",
     "output_type": "stream",
     "text": [
      "Downloading...\n",
      "From: https://www.cs.cmu.edu/Groups/AI/areas/nlp/corpora/names/female.txt\n",
      "To: /Users/fridades/Projects/bechdel/female.txt\n",
      "35.8kB [00:00, 58.1MB/s]                                                        \n",
      "Downloading...\n",
      "From: https://www.cs.cmu.edu/Groups/AI/areas/nlp/corpora/names/male.txt\n",
      "To: /Users/fridades/Projects/bechdel/male.txt\n",
      "20.5kB [00:00, 33.6MB/s]                                                        \n"
     ]
    },
    {
     "data": {
      "text/plain": [
       "'male.txt'"
      ]
     },
     "execution_count": 167,
     "metadata": {},
     "output_type": "execute_result"
    }
   ],
   "source": [
    "#get list of first names (man and woman from academic source)\n",
    "women_names ='https://www.cs.cmu.edu/Groups/AI/areas/nlp/corpora/names/female.txt'\n",
    "man_names = 'https://www.cs.cmu.edu/Groups/AI/areas/nlp/corpora/names/male.txt'\n",
    "gdown.download(women_names);gdown.download(man_names)"
   ]
  },
  {
   "cell_type": "code",
   "execution_count": 168,
   "id": "b0740285",
   "metadata": {},
   "outputs": [
    {
     "name": "stdout",
     "output_type": "stream",
     "text": [
      "['# List of common female names.', '# Copyright (c) January 1991 by Mark Kantrowitz.', '# 4987 names', '# Thanks to Bill.Ross for about 1000 additional names.', '# Version 1.3 (29-MAR-94)'] \n",
      " ABAGAEL\n",
      "['# List of common male names.', '# Copyright (c) January 1991 by Mark Kantrowitz.', '# 2940 names', '# Thanks to Bill Ross for about 1000 additional names.', '# Version 1.3 (29-MAR-94)'] \n",
      " AAMIR\n"
     ]
    }
   ],
   "source": [
    "def read_text(fid):\n",
    "    '''gets names from txt removing preamble (prints)\n",
    "    prints first name converted to upper'''\n",
    "    with open(fid,'r') as hndl:\n",
    "        txt = hndl.read().splitlines()\n",
    "    preamble = txt[:5]\n",
    "    #convert all names to upper\n",
    "    txt = [name.upper() for name in txt[5:]]\n",
    "    print(preamble,'\\n', txt[1])\n",
    "    return txt\n",
    "\n",
    "# get lists\n",
    "fem_first, man_first = read_text('female.txt'), read_text('male.txt')"
   ]
  },
  {
   "cell_type": "code",
   "execution_count": 169,
   "id": "0769948e",
   "metadata": {},
   "outputs": [],
   "source": [
    "# might take a minute to parse and compute (but less time than training an nlp model :-))\n",
    "def bechdel_one(script_names,fems):\n",
    "    '''a generator function that yields whther or not condtion 1\n",
    "    is passed where 2 female names not the same in seqence are \n",
    "    a potential proxy for passing condition 1 of Bechdel test'''\n",
    "    for idx,name in enumerate(script_names[3:]):\n",
    "        if idx+1!=len(script_names):\n",
    "            dialoge = script_names[idx:idx+2]\n",
    "            #not the same person\n",
    "            not_solo = dialoge[0]!=dialoge[1]\n",
    "            # first person is in womens names\n",
    "            a_is_girl = dialoge[0] in fems\n",
    "            # secong perons is in womens names\n",
    "            b_is_girl = dialoge[1] in fems\n",
    "            yield all([not_solo,a_is_girl,b_is_girl])\n",
    "    \n",
    "passes_bechdel_one = {title:any(list(bechdel_one(names_dict[title],fem_first))) for title in names_dict}"
   ]
  },
  {
   "cell_type": "code",
   "execution_count": 170,
   "id": "72398578",
   "metadata": {},
   "outputs": [
    {
     "data": {
      "text/plain": [
       "True"
      ]
     },
     "execution_count": 170,
     "metadata": {},
     "output_type": "execute_result"
    }
   ],
   "source": [
    "# passed condition one according to boolean process\n",
    "\n",
    "passes_bechdel_one['10 THINGS I HATE ABOUT YOU']"
   ]
  },
  {
   "cell_type": "code",
   "execution_count": 171,
   "id": "0f6eb192",
   "metadata": {},
   "outputs": [
    {
     "data": {
      "text/plain": [
       "189"
      ]
     },
     "execution_count": 171,
     "metadata": {},
     "output_type": "execute_result"
    },
    {
     "data": {
      "image/png": "[encoded data removed]",
      "text/plain": [
       "<Figure size 432x288 with 1 Axes>"
      ]
     },
     "metadata": {
      "needs_background": "light"
     },
     "output_type": "display_data"
    }
   ],
   "source": [
    "passes_one_vector = np.array([passes_bechdel_one[key] for key in passes_bechdel_one])\n",
    "#convert bools to ints\n",
    "passes_one_vector = passes_one_vector.astype(int)\n",
    "len(passes_one_vector)\n",
    "plt.bar(['does not pass','passes'],np.bincount(passes_one_vector))\n",
    "np.count_nonzero(passes_one_vector)"
   ]
  },
  {
   "cell_type": "code",
   "execution_count": 172,
   "id": "4c458732",
   "metadata": {},
   "outputs": [
    {
     "data": {
      "text/plain": [
       "'20:48:18'"
      ]
     },
     "execution_count": 172,
     "metadata": {},
     "output_type": "execute_result"
    }
   ],
   "source": [
    "time.strftime(\"%H:%M:%S\", time.localtime())"
   ]
  },
  {
   "cell_type": "markdown",
   "id": "6fe9fd59",
   "metadata": {},
   "source": [
    "####  list of film titles that pass all three conditions from bechdeltest.com (here taken as **ground truth**)"
   ]
  },
  {
   "cell_type": "code",
   "execution_count": 173,
   "id": "673a5aa1",
   "metadata": {},
   "outputs": [],
   "source": [
    "bechdel_films = requests.get('https://bechdeltest.com/?list=all').text"
   ]
  },
  {
   "cell_type": "code",
   "execution_count": 174,
   "id": "aea8ee84",
   "metadata": {},
   "outputs": [],
   "source": [
    " bechdel_soup = BeautifulSoup(bechdel_films, 'html.parser')"
   ]
  },
  {
   "cell_type": "code",
   "execution_count": 175,
   "id": "e1b75c01",
   "metadata": {},
   "outputs": [
    {
     "data": {
      "text/plain": [
       "281"
      ]
     },
     "execution_count": 175,
     "metadata": {},
     "output_type": "execute_result"
    }
   ],
   "source": [
    "criteria = \"[There are two or more women in this movie and they talk to each other about something other than a man]\"\n",
    "films = bechdel_soup.find_all('a')\n",
    "titles_that_pass = [films[idx-2].text for idx,film in enumerate(films) if criteria in str(film.contents)]\n",
    "titles_that_pass = [title.upper().strip('THE ') for title in titles_that_pass if title !='']\n",
    "to_check = [title.strip(', The').upper() for title in list(names_dict.keys())]\n",
    "len(to_check)"
   ]
  },
  {
   "cell_type": "code",
   "execution_count": 176,
   "id": "a110e898",
   "metadata": {},
   "outputs": [],
   "source": [
    "# 1*n d array (aka a vector) of those that pass all 1=pass 0=fail\n",
    "pass_all_vector = np.array([i in titles_that_pass for i in to_check]).astype(int)"
   ]
  },
  {
   "cell_type": "code",
   "execution_count": 177,
   "id": "571927a4",
   "metadata": {},
   "outputs": [
    {
     "data": {
      "text/plain": [
       "<BarContainer object of 2 artists>"
      ]
     },
     "execution_count": 177,
     "metadata": {},
     "output_type": "execute_result"
    },
    {
     "data": {
      "image/png": "[encoded data removed]",
      "text/plain": [
       "<Figure size 432x288 with 1 Axes>"
      ]
     },
     "metadata": {
      "needs_background": "light"
     },
     "output_type": "display_data"
    }
   ],
   "source": [
    "plt.bar(['does not pass','passes'],np.bincount(pass_all_vector))"
   ]
  },
  {
   "cell_type": "code",
   "execution_count": 178,
   "id": "29b45896",
   "metadata": {},
   "outputs": [
    {
     "data": {
      "text/plain": [
       "86"
      ]
     },
     "execution_count": 178,
     "metadata": {},
     "output_type": "execute_result"
    }
   ],
   "source": [
    "np.count_nonzero(pass_all_vector)"
   ]
  },
  {
   "cell_type": "markdown",
   "id": "8619a886",
   "metadata": {},
   "source": [
    "#### PLCC vanilla correlation coeff (can be used for binary and give phi coefficinet) to compare method used to derive condition one with ground truth (human rated unambiguous passes of Bechdel test\n",
    "$$\\begin{equation}\n",
    "r = \\frac{{}\\sum_{i=1}^{n} (x_i - \\overline{x})(y_i -\\overline{y})}{\\sqrt{\\sum_{i=1}^{n} (x_i -\\overline{x})^2(y_i - \\overline{y})^2}}\n",
    "\\label{PLCC} \n",
    "\\end{equation}$$"
   ]
  },
  {
   "cell_type": "code",
   "execution_count": 179,
   "id": "f8624149",
   "metadata": {},
   "outputs": [
    {
     "data": {
      "text/plain": [
       "'R value = -0.080 P value 0.183'"
      ]
     },
     "execution_count": 179,
     "metadata": {},
     "output_type": "execute_result"
    }
   ],
   "source": [
    "pearson_r, p_val = stats.pearsonr(passes_one_vector,pass_all_vector)\n",
    "f'R value = {pearson_r:.3f} P value {p_val:.3f}'"
   ]
  },
  {
   "cell_type": "markdown",
   "id": "3e6ef066",
   "metadata": {},
   "source": [
    "#### Shows that not very significant prediction and that either the method of using sequential female names is not very good or that it is a poor proxy for passing the Bechdel test"
   ]
  },
  {
   "cell_type": "markdown",
   "id": "0f64e8d3",
   "metadata": {},
   "source": [
    "#### hack proof using mathews (specifically binary) PLCC vanilla correlation coeff (can be used for binary as and give phi coefficinet)\n",
    "\n",
    "$$\\begin{equation}\n",
    "    MMC = \\frac{TP\\times TN - FP \\times FN}{\\sqrt{(TP+FP)(TP+FN)(TN+FP)(TN+FN)}}\n",
    "\\end{equation}$$"
   ]
  },
  {
   "cell_type": "code",
   "execution_count": 180,
   "id": "b14c5dcd",
   "metadata": {},
   "outputs": [
    {
     "data": {
      "text/plain": [
       "' Mathews coef = -0.080'"
      ]
     },
     "execution_count": 180,
     "metadata": {},
     "output_type": "execute_result"
    }
   ],
   "source": [
    "f' Mathews coef = {matthews_corrcoef(pass_all_vector,passes_one_vector):.3f}'"
   ]
  },
  {
   "cell_type": "markdown",
   "id": "bc2fa828",
   "metadata": {},
   "source": [
    "#### however perhaps more appropriate as shows 'set similarity' is Jacard's Distance (a bit like SSIM but for binary vectors)\n",
    "$$\\begin{equation}\n",
    "    d_j(A,B) = 1-J(A,B) = \\frac{| A \\cup B| - | A \\cap B|}{| A \\cup B|}\n",
    "\\end{equation}$$"
   ]
  },
  {
   "cell_type": "code",
   "execution_count": 181,
   "id": "ed725eb0",
   "metadata": {},
   "outputs": [
    {
     "data": {
      "text/plain": [
       "' Jackards Dist = 0.761'"
      ]
     },
     "execution_count": 181,
     "metadata": {},
     "output_type": "execute_result"
    }
   ],
   "source": [
    "f' Jackards Dist = {distance.jaccard(pass_all_vector,passes_one_vector):.3f}'"
   ]
  },
  {
   "cell_type": "markdown",
   "id": "00b9917c",
   "metadata": {},
   "source": [
    "#### shows significant distance however about 1/3 of sample space is same \n",
    "> therefore while poor correlation (between those that pass condition 1 of bechdel and are in ground truth) ther is some promise that those that meet two fmale charachter names being used in seqece maight be good a prediction condition one but that the textuall content accounts for faliure of the Bechdel test after this (indicates that textuall analysis is needed)!!"
   ]
  },
  {
   "cell_type": "markdown",
   "id": "7a9d75c0",
   "metadata": {},
   "source": [
    "#### Show if condition of one by names method is a an accurate predictory of all three. \n",
    "\n",
    "$$\\begin{equation}\n",
    "    Accuracy = \\frac{TP+TN}{TP+TN+FP+FN}\n",
    "\\end{equation}$$"
   ]
  },
  {
   "cell_type": "code",
   "execution_count": 182,
   "id": "75a73404",
   "metadata": {},
   "outputs": [
    {
     "data": {
      "text/plain": [
       "'accuracy = 0.399'"
      ]
     },
     "execution_count": 182,
     "metadata": {},
     "output_type": "execute_result"
    }
   ],
   "source": [
    "tn, fp, fn, tp = confusion_matrix(pass_all_vector,passes_one_vector).ravel()\n",
    "\n",
    "f'accuracy = {sum([tp,tn])/sum([tn,fp,fn,tp]):.3f}'"
   ]
  },
  {
   "cell_type": "code",
   "execution_count": 183,
   "id": "62bc024a",
   "metadata": {},
   "outputs": [],
   "source": [
    "main_films = requests.get('https://imsdb.com/all-scripts.html').text\n",
    "main_films = BeautifulSoup(main_films, 'html.parser')"
   ]
  },
  {
   "cell_type": "code",
   "execution_count": 184,
   "id": "de266def",
   "metadata": {},
   "outputs": [],
   "source": [
    "script_urls = [ ]\n",
    "for i in main_films.find_all('a'):\n",
    "    if '/Movie Scripts/' in i['href']:\n",
    "        if i.text.strip(' ,The').upper() not in passes_bechdel_one:\n",
    "            url = 'https://imsdb.com'+str(i['href'])\n",
    "            script_urls.append(url)"
   ]
  },
  {
   "cell_type": "code",
   "execution_count": 185,
   "id": "bec71d4f",
   "metadata": {},
   "outputs": [
    {
     "data": {
      "text/plain": [
       "'RESERVOIR DOGS SCRIP'"
      ]
     },
     "execution_count": 185,
     "metadata": {},
     "output_type": "execute_result"
    }
   ],
   "source": [
    "script_urls[0].split('/')[-1].strip('.html').strip(', The').upper()"
   ]
  },
  {
   "cell_type": "code",
   "execution_count": 186,
   "id": "816ae304",
   "metadata": {},
   "outputs": [],
   "source": [
    "'https://imsdb.com/Movie%20Scripts/Four%20Rooms%20Script.html'\n",
    "def get_script(parent_page):\n",
    "    '''gets script form parent html (script page \n",
    "    rather thatn script itself)'''\n",
    "    one_film = requests.get(parent_page).text\n",
    "    one_film = BeautifulSoup(one_film, 'html.parser')\n",
    "    for i in one_film.find_all('a'):\n",
    "        if 'Read' in i.text:\n",
    "            # get one script\n",
    "            one_script = requests.get(\n",
    "                'https://imsdb.com/Movie Scripts'+i['href']).text\n",
    "            return BeautifulSoup(one_script, 'html.parser')\n",
    "        "
   ]
  },
  {
   "cell_type": "markdown",
   "id": "56ceb597",
   "metadata": {},
   "source": [
    "#### probably a bit exaggerated on the evasion of web crawl blocking but illustrates  some techniques for this"
   ]
  },
  {
   "cell_type": "code",
   "execution_count": 187,
   "id": "2c94ab51",
   "metadata": {},
   "outputs": [
    {
     "name": "stderr",
     "output_type": "stream",
     "text": [
      "\r",
      "  0%|                                                     | 0/9 [00:00<?, ?it/s]"
     ]
    },
    {
     "name": "stdout",
     "output_type": "stream",
     "text": [
      "GREMLINS 2 SCRIP not parsed\n",
      "FURY SCRIP not parsed\n",
      "CONTACT SCRIP not parsed\n",
      "DONNIE DARKO SCRIP not parsed\n"
     ]
    },
    {
     "name": "stderr",
     "output_type": "stream",
     "text": [
      "\r",
      " 11%|█████                                        | 1/9 [00:48<06:29, 48.70s/it]"
     ]
    },
    {
     "name": "stdout",
     "output_type": "stream",
     "text": [
      "WHAT ABOUT BOB? SCRIP not parsed\n",
      "O BROTHER WHERE ART THOU? SCRIP not parsed\n",
      "BATMAN FOREVER SCRIP not parsed\n",
      "BATMAN RETURNS SCRIP not parsed\n"
     ]
    },
    {
     "name": "stderr",
     "output_type": "stream",
     "text": [
      "\r",
      " 22%|██████████                                   | 2/9 [01:36<05:38, 48.38s/it]"
     ]
    },
    {
     "name": "stdout",
     "output_type": "stream",
     "text": [
      "BATMAN BEGINS SCRIP not parsed\n",
      "HARRY POTTER AND THE HALF-BLOOD PRINCE SCRIP not parsed\n",
      "OUTBREAK SCRIP not parsed\n",
      "EXECUTIVE DECISION SCRIP not parsed\n",
      "HARRY POTTER AND THE GOBLET OF FIRE SCRIP not parsed\n"
     ]
    },
    {
     "name": "stderr",
     "output_type": "stream",
     "text": [
      "\r",
      " 33%|███████████████                              | 3/9 [02:25<04:51, 48.53s/it]"
     ]
    },
    {
     "name": "stdout",
     "output_type": "stream",
     "text": [
      "VALENTINE'S DAY SCRIP not parsed\n"
     ]
    },
    {
     "name": "stderr",
     "output_type": "stream",
     "text": [
      "\r",
      " 44%|████████████████████                         | 4/9 [03:14<04:04, 48.85s/it]"
     ]
    },
    {
     "name": "stdout",
     "output_type": "stream",
     "text": [
      "UNFORGIVEN SCRIP not parsed\n",
      "MATCHSTICK MEN SCRIP not parsed\n",
      "HARRY POTTER AND THE CHAMBER OF SECRETS SCRIP not parsed\n"
     ]
    },
    {
     "name": "stderr",
     "output_type": "stream",
     "text": [
      "\r",
      " 56%|█████████████████████████                    | 5/9 [04:04<03:16, 49.10s/it]"
     ]
    },
    {
     "name": "stdout",
     "output_type": "stream",
     "text": [
      "GOODFELLAS SCRIP not parsed\n",
      "LETHAL WEAPON SCRIP not parsed\n",
      "CASABLANCA SCRIP not parsed\n",
      "BATMAN AND ROBIN SCRIP not parsed\n"
     ]
    },
    {
     "name": "stderr",
     "output_type": "stream",
     "text": [
      "\r",
      " 67%|██████████████████████████████               | 6/9 [04:54<02:28, 49.43s/it]"
     ]
    },
    {
     "name": "stdout",
     "output_type": "stream",
     "text": [
      "EYES WIDE SHUT SCRIP not parsed\n",
      "GINGER SNAPS SCRIP not parsed\n"
     ]
    },
    {
     "name": "stderr",
     "output_type": "stream",
     "text": [
      "\r",
      " 78%|███████████████████████████████████          | 7/9 [05:46<01:39, 50.00s/it]"
     ]
    },
    {
     "name": "stdout",
     "output_type": "stream",
     "text": [
      "WHO FRAMED ROGER RABBIT? SCRIP not parsed\n"
     ]
    },
    {
     "name": "stderr",
     "output_type": "stream",
     "text": [
      "\r",
      " 89%|████████████████████████████████████████     | 8/9 [06:33<00:49, 49.38s/it]"
     ]
    },
    {
     "name": "stdout",
     "output_type": "stream",
     "text": [
      "DARK KNIGHT, THE SCRIP not parsed\n",
      "HARRY POTTER AND THE DEATHLY HALLOWS PART 1 SCRIP not parsed\n"
     ]
    },
    {
     "name": "stderr",
     "output_type": "stream",
     "text": [
      "100%|█████████████████████████████████████████████| 9/9 [07:25<00:00, 49.46s/it]\n"
     ]
    }
   ],
   "source": [
    "script_urls = np.array(script_urls)\n",
    "# random shuffle urls array so (evasion of blocking)\n",
    "np.random.shuffle(script_urls)\n",
    "constant = 100\n",
    "#batching scripts into 100 to take a \n",
    "#longer break of random time every 100 scrapes\n",
    "batches = [script_urls[i-constant:i] \n",
    "           for i in range(constant,len(script_urls),constant)]\n",
    "\n",
    "new_scripts =  { }\n",
    "for batch in tqdm(batches):\n",
    "    # random sleep of uniform probability (evasion of blocking)\n",
    "    for url in batch:\n",
    "        #sleep_for = sum(np.random.random_sample(1))*0.5\n",
    "        # micro sleep to emulate unpredictable behaviour\n",
    "        #time.sleep(sleep_for)\n",
    "        title = url.split('/')[-1].strip('.html').strip(', The').upper()\n",
    "        # try as some pages migh be irregular/not parsed etc\n",
    "        try:\n",
    "            script = clean(get_script(url))\n",
    "            new_scripts[title]=script\n",
    "        except:\n",
    "            print(title, 'not parsed')"
   ]
  },
  {
   "cell_type": "code",
   "execution_count": 146,
   "id": "e5a72057",
   "metadata": {},
   "outputs": [
    {
     "data": {
      "text/plain": [
       "866"
      ]
     },
     "execution_count": 146,
     "metadata": {},
     "output_type": "execute_result"
    }
   ],
   "source": [
    "len(new_scripts)"
   ]
  },
  {
   "cell_type": "code",
   "execution_count": 147,
   "id": "90395cbe",
   "metadata": {},
   "outputs": [],
   "source": [
    "new_script = {key.replace('THE SCRIP','').replace('SCRIP',''):new_scripts[key] for key in new_scripts}"
   ]
  },
  {
   "cell_type": "code",
   "execution_count": 148,
   "id": "002dac64",
   "metadata": {},
   "outputs": [
    {
     "name": "stdout",
     "output_type": "stream",
     "text": [
      "there are now 1147 scripts scraped\n"
     ]
    }
   ],
   "source": [
    "all_scripts = {**names_dict, **new_script}\n",
    "print(f'there are now {len(all_scripts)} scripts scraped')\n",
    "passes_bechdel_one = {title:any(list(bechdel_one(all_scripts[title],fem_first))) for title in all_scripts}"
   ]
  },
  {
   "cell_type": "code",
   "execution_count": 149,
   "id": "7a4e06d6",
   "metadata": {},
   "outputs": [
    {
     "data": {
      "text/plain": [
       "748"
      ]
     },
     "execution_count": 149,
     "metadata": {},
     "output_type": "execute_result"
    },
    {
     "data": {
      "image/png": "[encoded data removed]",
      "text/plain": [
       "<Figure size 432x288 with 1 Axes>"
      ]
     },
     "metadata": {
      "needs_background": "light"
     },
     "output_type": "display_data"
    }
   ],
   "source": [
    "passes_one_vector = np.array([passes_bechdel_one[key] for key in passes_bechdel_one])\n",
    "#convert bools to ints\n",
    "passes_one_vector = passes_one_vector.astype(int)\n",
    "len(passes_one_vector)\n",
    "plt.bar(['does not pass','passes'],np.bincount(passes_one_vector))\n",
    "np.count_nonzero(passes_one_vector)"
   ]
  },
  {
   "cell_type": "code",
   "execution_count": 150,
   "id": "d1322fe3",
   "metadata": {},
   "outputs": [
    {
     "data": {
      "text/plain": [
       "<BarContainer object of 2 artists>"
      ]
     },
     "execution_count": 150,
     "metadata": {},
     "output_type": "execute_result"
    },
    {
     "data": {
      "image/png": "[encoded data removed]",
      "text/plain": [
       "<Figure size 432x288 with 1 Axes>"
      ]
     },
     "metadata": {
      "needs_background": "light"
     },
     "output_type": "display_data"
    }
   ],
   "source": [
    "pass_all_vector = np.array([i in titles_that_pass for i in all_scripts]).astype(int)\n",
    "plt.bar(['does not pass','passes'],np.bincount(pass_all_vector))"
   ]
  },
  {
   "cell_type": "code",
   "execution_count": 151,
   "id": "4f4e9a57",
   "metadata": {},
   "outputs": [
    {
     "data": {
      "text/plain": [
       "'R value = -0.022 P value 0.455'"
      ]
     },
     "execution_count": 151,
     "metadata": {},
     "output_type": "execute_result"
    }
   ],
   "source": [
    "pearson_r, p_val = stats.pearsonr(passes_one_vector,pass_all_vector)\n",
    "f'R value = {pearson_r:.3f} P value {p_val:.3f}'"
   ]
  },
  {
   "cell_type": "code",
   "execution_count": 152,
   "id": "059a11d4",
   "metadata": {},
   "outputs": [
    {
     "data": {
      "text/plain": [
       "' Mathews coef = -0.022'"
      ]
     },
     "execution_count": 152,
     "metadata": {},
     "output_type": "execute_result"
    }
   ],
   "source": [
    "f' Mathews coef = {matthews_corrcoef(pass_all_vector,passes_one_vector):.3f}'"
   ]
  },
  {
   "cell_type": "code",
   "execution_count": 153,
   "id": "393c2b88",
   "metadata": {},
   "outputs": [
    {
     "data": {
      "text/plain": [
       "' Jackards Dist = 0.935'"
      ]
     },
     "execution_count": 153,
     "metadata": {},
     "output_type": "execute_result"
    }
   ],
   "source": [
    "f' Jackards Dist = {distance.jaccard(pass_all_vector,passes_one_vector):.3f}'"
   ]
  },
  {
   "cell_type": "code",
   "execution_count": 154,
   "id": "27ca5f33",
   "metadata": {},
   "outputs": [
    {
     "data": {
      "text/plain": [
       "'accuracy = 0.364'"
      ]
     },
     "execution_count": 154,
     "metadata": {},
     "output_type": "execute_result"
    }
   ],
   "source": [
    "tn, fp, fn, tp = confusion_matrix(pass_all_vector,passes_one_vector).ravel()\n",
    "\n",
    "f'accuracy = {sum([tp,tn])/sum([tn,fp,fn,tp]):.3f}'"
   ]
  }
 ],
 "metadata": {
  "kernelspec": {
   "display_name": "Python 3 (ipykernel)",
   "language": "python",
   "name": "python3"
  },
  "language_info": {
   "codemirror_mode": {
    "name": "ipython",
    "version": 3
   },
   "file_extension": ".py",
   "mimetype": "text/x-python",
   "name": "python",
   "nbconvert_exporter": "python",
   "pygments_lexer": "ipython3",
   "version": "3.9.10"
  }
 },
 "nbformat": 4,
 "nbformat_minor": 5
}
