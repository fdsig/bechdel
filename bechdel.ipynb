{
 "cells": [
  {
   "cell_type": "code",
   "execution_count": 86,
   "id": "66a704df",
   "metadata": {},
   "outputs": [
    {
     "name": "stdout",
     "output_type": "stream",
     "text": [
      "here\n",
      "sldkfjdummykey\n",
      "> \u001b[31m\u001b[1mERROR   ❌ Failed to authenticate. Check the passed token is valid!\u001b[0m\n",
      "> \u001b[31m\u001b[1mERROR   ❌ Oops! Something failed in AutoNLP backend..\u001b[0m\n",
      "> \u001b[31m\u001b[1mERROR   Error code: 401; Details: '{\"error\":\"Unauthorized\"}'\u001b[0m\n",
      "Model trianing using autonlp (hugging face api)\n"
     ]
    }
   ],
   "source": [
    "# for intertest if here is how i would make this a sofrware project\n",
    "# training classifier using hugging face api (high, high level nlp)\n",
    "# then classifiny script text conten\n",
    "# dataset and csv are fomatted and readdy to go for api (as in this sofware works)\n",
    "# will need a valid hugging face api to work- (will fail but illustrates working code) \n",
    "!python3 main.py --hugging_face --login --api_key sldkfjdummykey\n"
   ]
  },
  {
   "cell_type": "markdown",
   "id": "3192ab45",
   "metadata": {},
   "source": [
    "####  Here is the software verison with and args parser that I wrote as an eg of using hugging face api to train a binary text classifier and an illustration of how I would approach this promblem as a peice of end to end software that runs in termnal"
   ]
  },
  {
   "cell_type": "code",
   "execution_count": 87,
   "id": "09cc9fa9",
   "metadata": {},
   "outputs": [
    {
     "name": "stdout",
     "output_type": "stream",
     "text": [
      "usage: main.py [-h] [--input csv INPUT CSV] [--project PROJECT]\r\n",
      "               [--split SPLIT] [--col_mapping COL_MAPPING] [--files FILES]\r\n",
      "               [--api_key API_KEY] [--resize RESIZE] [--name NAME]\r\n",
      "               [--language LANGUAGE] [--task TASK] [--max_models MAX_MODELS]\r\n",
      "               [--create_project] [--hugging_face] [--send] [--login] [--make]\r\n",
      "               [--train]\r\n",
      "\r\n",
      "Training Calssifier\r\n",
      "\r\n",
      "optional arguments:\r\n",
      "  -h, --help            show this help message and exit\r\n",
      "  --input csv INPUT CSV\r\n",
      "                        relative loacation of input csv for training\r\n",
      "  --project PROJECT     poject name\r\n",
      "  --split SPLIT         dataset split\r\n",
      "  --col_mapping COL_MAPPING\r\n",
      "                        text:text, label:target\r\n",
      "  --files FILES         formated csv only 2 colls one for text one for target\r\n",
      "  --api_key API_KEY     api key from hugging_face account\r\n",
      "  --resize RESIZE       Resizes images by percentage as scalar\r\n",
      "  --name NAME           project name hugging face\r\n",
      "  --language LANGUAGE   lang in eg [en,sp,fr]\r\n",
      "  --task TASK           Resizes images by percentage as scalar\r\n",
      "  --max_models MAX_MODELS\r\n",
      "                        nuber of trainable models\r\n",
      "  --create_project      create_new hf project\r\n",
      "  --hugging_face        uses hugging face api to train model\r\n",
      "  --send                if entered will try to sen .csv\r\n",
      "  --login               if entered will try to sen .csv\r\n",
      "  --make                create_new hf project\r\n",
      "  --train               create_new hf project\r\n"
     ]
    }
   ],
   "source": [
    "!python3 main.py --help"
   ]
  },
  {
   "cell_type": "code",
   "execution_count": 88,
   "id": "eba2e573",
   "metadata": {},
   "outputs": [],
   "source": [
    "import gdown \n",
    "import os\n",
    "import zipfile\n",
    "\n",
    "import pandas as pd\n",
    "import numpy as np\n",
    "import time\n",
    "import matplotlib.pyplot as plt\n",
    "import urllib.request\n",
    "import requests\n",
    "\n",
    "from pathlib import Path\n",
    "from tqdm import tqdm\n",
    "from bs4 import BeautifulSoup\n",
    "\n",
    "from scipy import stats\n",
    "from scipy.spatial import distance\n",
    "from sklearn.metrics import matthews_corrcoef\n",
    "from sklearn.metrics import confusion_matrix"
   ]
  },
  {
   "cell_type": "markdown",
   "id": "93f641a7",
   "metadata": {},
   "source": [
    "### Start time"
   ]
  },
  {
   "cell_type": "code",
   "execution_count": 89,
   "id": "c933c023",
   "metadata": {},
   "outputs": [
    {
     "data": {
      "text/plain": [
       "'19:32:40'"
      ]
     },
     "execution_count": 89,
     "metadata": {},
     "output_type": "execute_result"
    }
   ],
   "source": [
    "#starting time\n",
    "time.strftime(\"%H:%M:%S\", time.localtime())"
   ]
  },
  {
   "cell_type": "code",
   "execution_count": 90,
   "id": "8d0d4b59",
   "metadata": {},
   "outputs": [
    {
     "name": "stdout",
     "output_type": "stream",
     "text": [
      "README.md                   \u001b[34mgender_text\u001b[m\u001b[m\r\n",
      "\u001b[34m__pycache__\u001b[m\u001b[m                 \u001b[34mgit-lfs-darwin-amd64-v3.0.2\u001b[m\u001b[m\r\n",
      "bechdel.ipynb               main.py\r\n",
      "\u001b[34mbechdel_prescraped\u001b[m\u001b[m          male.txt\r\n",
      "classifier.py               pngaaa.com-3502264.png\r\n",
      "female-first-names.txt      \u001b[34mpre_scraped\u001b[m\u001b[m\r\n",
      "female.txt                  scripts_html.zip\r\n"
     ]
    }
   ],
   "source": [
    "!ls\n"
   ]
  },
  {
   "cell_type": "markdown",
   "id": "08bd5536",
   "metadata": {},
   "source": [
    "\n",
    "\n",
    "<img src=\"pngaaa.com-3502264.png\" width=50 height=50 />\n",
    "\n",
    "## **preamble**\n",
    "**bechdel criteria:**\n",
    "- 1. [x] (of film or literature) Has to have at least two women (discrete int) or $\\in \\mathbb{Z}$\n",
    "- 2. [x] Talk to each other in (continuous time) or $\\in \\mathbb{R}$\n",
    "- 3. [x] Talk about somthing other than a man (not.self) (binary) or $\\in \\mathbb{B}$ \n",
    " "
   ]
  },
  {
   "cell_type": "code",
   "execution_count": 91,
   "id": "8fa8ee8f",
   "metadata": {},
   "outputs": [],
   "source": [
    "def get_scripts(did=None):\n",
    "    '''this funciton gets scripts using gdown from google drive zip\n",
    "    unzips and preservs file name'''\n",
    "    url = 'https://drive.google.com/drive/folders/1PWoip6Hkl-3WG9Syyd_IxOPeC-FsshDP?usp=sharing'\n",
    "    os.makedirs(did,exist_ok=True)\n",
    "    gdown.download_folder(url,output=None,quiet=False)\n",
    "    fid = Path('pre_scraped/scripts_html.zip')\n",
    "    with zipfile.ZipFile(fid, 'r') as zip_fid:\n",
    "        zip_fid.extractall(fid.parent)\n"
   ]
  },
  {
   "cell_type": "code",
   "execution_count": 92,
   "id": "7846e192",
   "metadata": {},
   "outputs": [
    {
     "name": "stderr",
     "output_type": "stream",
     "text": [
      "Retrieving folder list\n"
     ]
    },
    {
     "name": "stdout",
     "output_type": "stream",
     "text": [
      "Processing file 1sKXHb17Ah6Bl6nVMCUE--SnCGV-rvlzk scripts_html.zip\n",
      "Building directory structure completed\n"
     ]
    },
    {
     "name": "stderr",
     "output_type": "stream",
     "text": [
      "Retrieving folder list completed\n",
      "Building directory structure\n",
      "Downloading...\n",
      "From: https://drive.google.com/uc?id=1sKXHb17Ah6Bl6nVMCUE--SnCGV-rvlzk\n",
      "To: /Users/fridades/Projects/bechdel/scripts_html.zip\n",
      "100%|██████████████████████████████████████| 16.1M/16.1M [00:01<00:00, 8.98MB/s]\n",
      "Download completed\n"
     ]
    }
   ],
   "source": [
    "did = Path('pre_scraped/')\n",
    "get_scripts(did)"
   ]
  },
  {
   "cell_type": "code",
   "execution_count": 93,
   "id": "ffb71cb5",
   "metadata": {},
   "outputs": [
    {
     "name": "stderr",
     "output_type": "stream",
     "text": [
      "100%|█████████████████████████████████████████| 282/282 [00:16<00:00, 17.38it/s]\n"
     ]
    }
   ],
   "source": [
    "#directory in directory with scripts\n",
    "did = Path('pre_scraped/scripts_html/')\n",
    "# using path object as itterator to ge file in directory\n",
    "fids = [fid for fid in did.iterdir()]\n",
    "scripts = { }\n",
    "for fid in tqdm(fids):\n",
    "    with open(fid,'r') as handle:\n",
    "        scripts[fid.name.strip(fid.suffix)]=BeautifulSoup(handle, 'html.parser')\n"
   ]
  },
  {
   "cell_type": "code",
   "execution_count": 94,
   "id": "87d6a342",
   "metadata": {},
   "outputs": [],
   "source": [
    "def clean(script):\n",
    "    script = [element for element in script.find_all('b')]\n",
    "   \n",
    "    script = [element.get_text() for element in script]\n",
    " \n",
    "    script = [\" \".join(element.split()) for element in script\n",
    "              if \" \".join(element.split()) !='']\n",
    "    return [element.upper() for element in script]    \n",
    "names_dict = {script:clean(scripts[script]) for script in scripts}\n",
    "names_dict = {key.strip(', The').upper():names_dict[key] for key in names_dict}\n",
    "#clean names and make upper\n"
   ]
  },
  {
   "cell_type": "code",
   "execution_count": 95,
   "id": "24109a92",
   "metadata": {},
   "outputs": [
    {
     "name": "stderr",
     "output_type": "stream",
     "text": [
      "Downloading...\n",
      "From: https://www.cs.cmu.edu/Groups/AI/areas/nlp/corpora/names/female.txt\n",
      "To: /Users/fridades/Projects/bechdel/female.txt\n",
      "35.8kB [00:00, 52.3MB/s]                                                        \n",
      "Downloading...\n",
      "From: https://www.cs.cmu.edu/Groups/AI/areas/nlp/corpora/names/male.txt\n",
      "To: /Users/fridades/Projects/bechdel/male.txt\n",
      "20.5kB [00:00, 28.5MB/s]                                                        \n"
     ]
    },
    {
     "data": {
      "text/plain": [
       "'male.txt'"
      ]
     },
     "execution_count": 95,
     "metadata": {},
     "output_type": "execute_result"
    }
   ],
   "source": [
    "#get list of first names\n",
    "\n",
    "women_names ='https://www.cs.cmu.edu/Groups/AI/areas/nlp/corpora/names/female.txt'\n",
    "man_names = 'https://www.cs.cmu.edu/Groups/AI/areas/nlp/corpora/names/male.txt'\n",
    "gdown.download(women_names);gdown.download(man_names)"
   ]
  },
  {
   "cell_type": "code",
   "execution_count": 96,
   "id": "3e44a053",
   "metadata": {},
   "outputs": [
    {
     "name": "stdout",
     "output_type": "stream",
     "text": [
      "['# List of common female names.', '# Copyright (c) January 1991 by Mark Kantrowitz.', '# 4987 names', '# Thanks to Bill.Ross for about 1000 additional names.', '# Version 1.3 (29-MAR-94)'] \n",
      " ABAGAEL\n",
      "['# List of common male names.', '# Copyright (c) January 1991 by Mark Kantrowitz.', '# 2940 names', '# Thanks to Bill Ross for about 1000 additional names.', '# Version 1.3 (29-MAR-94)'] \n",
      " AAMIR\n"
     ]
    }
   ],
   "source": [
    "def read_text(fid):\n",
    "    '''gets names form txt removing preamble (prints)\n",
    "    prints first name converted to uppper'''\n",
    "    with open(fid,'r') as hndl:\n",
    "        txt = hndl.read().splitlines()\n",
    "    preamble = txt[:5]\n",
    "    #convert all names to upper\n",
    "    txt = [name.upper() for name in txt[5:]]\n",
    "    print(preamble,'\\n', txt[1])\n",
    "    return txt\n",
    "\n",
    "fem_first, man_first = read_text('female.txt'), read_text('male.txt')"
   ]
  },
  {
   "cell_type": "code",
   "execution_count": 97,
   "id": "0769948e",
   "metadata": {},
   "outputs": [],
   "source": [
    "# might take a minuit to parse and compute (but less time than training an nlp model :-))\n",
    "def bechdel_one(script_names,fems):\n",
    "    '''a generator function that yields whther or not condtion 1\n",
    "    is passed where 2 female names not the same in seqence are \n",
    "    a potential proxy for passing condition 1 of Bechdel test'''\n",
    "    for idx,name in enumerate(script_names[3:]):\n",
    "        if idx+1!=len(script_names):\n",
    "            dialoge = script_names[idx:idx+2]\n",
    "            #not the same person\n",
    "            not_solo = dialoge[0]!=dialoge[1]\n",
    "            # first person is in womens names\n",
    "            a_is_girl = dialoge[0] in fems\n",
    "            # secong perons is in womens names\n",
    "            b_is_girl = dialoge[1] in fems\n",
    "            yield all([not_solo,a_is_girl,b_is_girl])\n",
    "    \n",
    "passes_bechdel_one = {title:any(list(bechdel_one(names_dict[title],fem_first))) for title in names_dict}"
   ]
  },
  {
   "cell_type": "code",
   "execution_count": 98,
   "id": "59bf26ef",
   "metadata": {},
   "outputs": [
    {
     "data": {
      "text/plain": [
       "True"
      ]
     },
     "execution_count": 98,
     "metadata": {},
     "output_type": "execute_result"
    }
   ],
   "source": [
    "# passed condition one according to boolen process\n",
    "\n",
    "passes_bechdel_one['10 THINGS I HATE ABOUT YOU']"
   ]
  },
  {
   "cell_type": "code",
   "execution_count": 99,
   "id": "c99bad1b",
   "metadata": {},
   "outputs": [
    {
     "data": {
      "text/plain": [
       "189"
      ]
     },
     "execution_count": 99,
     "metadata": {},
     "output_type": "execute_result"
    },
    {
     "data": {
      "image/png": "[encoded data removed]",
      "text/plain": [
       "<Figure size 432x288 with 1 Axes>"
      ]
     },
     "metadata": {
      "needs_background": "light"
     },
     "output_type": "display_data"
    }
   ],
   "source": [
    "passes_one_vector = np.array([passes_bechdel_one[key] for key in passes_bechdel_one])\n",
    "#convert bools to ints\n",
    "passes_one_vector = passes_one_vector.astype(int)\n",
    "len(passes_one_vector)\n",
    "plt.bar(['does not pass','passes'],np.bincount(passes_one_vector))\n",
    "np.count_nonzero(passes_one_vector)"
   ]
  },
  {
   "cell_type": "code",
   "execution_count": 100,
   "id": "4c458732",
   "metadata": {},
   "outputs": [
    {
     "data": {
      "text/plain": [
       "'19:34:12'"
      ]
     },
     "execution_count": 100,
     "metadata": {},
     "output_type": "execute_result"
    }
   ],
   "source": [
    "time.strftime(\"%H:%M:%S\", time.localtime())"
   ]
  },
  {
   "cell_type": "markdown",
   "id": "8eb3f248",
   "metadata": {},
   "source": [
    "### list of films that pass all three from bechdeltest.com "
   ]
  },
  {
   "cell_type": "code",
   "execution_count": 101,
   "id": "3de3c316",
   "metadata": {},
   "outputs": [],
   "source": [
    "bechdel_films = requests.get('https://bechdeltest.com/?list=all').text"
   ]
  },
  {
   "cell_type": "code",
   "execution_count": 102,
   "id": "eb33824d",
   "metadata": {},
   "outputs": [],
   "source": [
    " bechdel_soup = BeautifulSoup(bechdel_films, 'html.parser')"
   ]
  },
  {
   "cell_type": "code",
   "execution_count": 103,
   "id": "73e80213",
   "metadata": {},
   "outputs": [
    {
     "data": {
      "text/plain": [
       "281"
      ]
     },
     "execution_count": 103,
     "metadata": {},
     "output_type": "execute_result"
    }
   ],
   "source": [
    "criteria = \"[There are two or more women in this movie and they talk to each other about something other than a man]\"\n",
    "films = bechdel_soup.find_all('a')\n",
    "titles_that_pass = [films[idx-2].text for idx,film in enumerate(films) if criteria in str(film.contents)]\n",
    "titles_that_pass = [title.upper().strip('THE ') for title in titles_that_pass if title !='']\n",
    "to_check = [title.strip(', The').upper() for title in list(names_dict.keys())]\n",
    "len(to_check)"
   ]
  },
  {
   "cell_type": "code",
   "execution_count": 104,
   "id": "0837d02f",
   "metadata": {},
   "outputs": [],
   "source": [
    "# 1*n d array (aka a vector) of those that pass all 1=pass 0=fail\n",
    "pass_all_vector = np.array([i in titles_that_pass for i in to_check]).astype(int)"
   ]
  },
  {
   "cell_type": "code",
   "execution_count": 105,
   "id": "1a846da4",
   "metadata": {},
   "outputs": [
    {
     "data": {
      "text/plain": [
       "<BarContainer object of 2 artists>"
      ]
     },
     "execution_count": 105,
     "metadata": {},
     "output_type": "execute_result"
    },
    {
     "data": {
      "image/png": "[encoded data removed]",
      "text/plain": [
       "<Figure size 432x288 with 1 Axes>"
      ]
     },
     "metadata": {
      "needs_background": "light"
     },
     "output_type": "display_data"
    }
   ],
   "source": [
    "plt.bar(['does not pass','passes'],np.bincount(pass_all_vector))"
   ]
  },
  {
   "cell_type": "code",
   "execution_count": 106,
   "id": "9071a4c5",
   "metadata": {},
   "outputs": [
    {
     "data": {
      "text/plain": [
       "86"
      ]
     },
     "execution_count": 106,
     "metadata": {},
     "output_type": "execute_result"
    }
   ],
   "source": [
    "np.count_nonzero(pass_all_vector)"
   ]
  },
  {
   "cell_type": "markdown",
   "id": "9cde256a",
   "metadata": {},
   "source": [
    "## PLCC vanilla correlation coeff (can be used for binary as and give phi coefficinet) to compare method used to derive condition one with ground truth (human rated unambiguous passes of Bechdel test\n",
    "$$\\begin{equation}\n",
    "r = \\frac{{}\\sum_{i=1}^{n} (x_i - \\overline{x})(y_i -\\overline{y})}{\\sqrt{\\sum_{i=1}^{n} (x_i -\\overline{x})^2(y_i - \\overline{y})^2}}\n",
    "\\label{PLCC} \n",
    "\\end{equation}$$"
   ]
  },
  {
   "cell_type": "code",
   "execution_count": 107,
   "id": "cb0ab073",
   "metadata": {},
   "outputs": [
    {
     "data": {
      "text/plain": [
       "'R value = -0.080 P value 0.183'"
      ]
     },
     "execution_count": 107,
     "metadata": {},
     "output_type": "execute_result"
    }
   ],
   "source": [
    "pearson_r, p_val = stats.pearsonr(passes_one_vector,pass_all_vector)\n",
    "f'R value = {pearson_r:.3f} P value {p_val:.3f}'"
   ]
  },
  {
   "cell_type": "markdown",
   "id": "5637faac",
   "metadata": {},
   "source": [
    "#### Shows that not very significant predictory and that either the method of using sequential female names is not very good or that it is a poor proxy for passing the Bechdel test"
   ]
  },
  {
   "cell_type": "markdown",
   "id": "f3ef23df",
   "metadata": {},
   "source": [
    "#### hack proof using mathews (specifically binary) PLCC vanilla correlation coeff (can be used for binary as and give phi coefficinet)\n",
    "\n",
    "$$\\begin{equation}\n",
    "    MMC = \\frac{TP\\times TN - FP \\times FN}{\\sqrt{(TP+FP)(TP+FN)(TN+FP)(TN+FN)}}\n",
    "\\end{equation}$$"
   ]
  },
  {
   "cell_type": "code",
   "execution_count": 108,
   "id": "0dfc5401",
   "metadata": {},
   "outputs": [
    {
     "data": {
      "text/plain": [
       "' Mathews coef = -0.080'"
      ]
     },
     "execution_count": 108,
     "metadata": {},
     "output_type": "execute_result"
    }
   ],
   "source": [
    "f' Mathews coef = {matthews_corrcoef(pass_all_vector,passes_one_vector):.3f}'"
   ]
  },
  {
   "cell_type": "markdown",
   "id": "47b5594c",
   "metadata": {},
   "source": [
    "#### however perhaps more appropriate as shows 'set similarity' is Jacard's Distance (a bit like SSIM but for binary vectors)\n",
    "$$\\begin{equation}\n",
    "    d_j(A,B) = 1-J(A,B) = \\frac{| A \\cup B| - | A \\cap B|}{| A \\cup B|}\n",
    "\\end{equation}$$"
   ]
  },
  {
   "cell_type": "code",
   "execution_count": 109,
   "id": "6cfe3494",
   "metadata": {},
   "outputs": [
    {
     "data": {
      "text/plain": [
       "' Jackards Dist = 0.761'"
      ]
     },
     "execution_count": 109,
     "metadata": {},
     "output_type": "execute_result"
    }
   ],
   "source": [
    "f' Jackards Dist = {distance.jaccard(pass_all_vector,passes_one_vector):.3f}'"
   ]
  },
  {
   "cell_type": "markdown",
   "id": "40a7884f",
   "metadata": {},
   "source": [
    "#### shows signigicant distance however about 1/3 of sample space is same -- therfore while poor correlation some promise that those that meet two fmale charachter names being used in seqece maight be good a prediction condition one but that the textuall content accounts for faliure of the Bechdel test after this (indicates that textuall analysis is needed)"
   ]
  },
  {
   "cell_type": "markdown",
   "id": "6ecbcf1e",
   "metadata": {},
   "source": [
    "#### Show if condition of one by names method is a good an accurate model\n",
    "\n",
    "$$\\begin{equation}\n",
    "    Accuracy = \\frac{TP+TN}{TP+TN+FP+FN}\n",
    "\\end{equation}$$"
   ]
  },
  {
   "cell_type": "code",
   "execution_count": 110,
   "id": "60bac9cb",
   "metadata": {},
   "outputs": [
    {
     "data": {
      "text/plain": [
       "'accuracy = 0.399'"
      ]
     },
     "execution_count": 110,
     "metadata": {},
     "output_type": "execute_result"
    }
   ],
   "source": [
    "tn, fp, fn, tp = confusion_matrix(pass_all_vector,passes_one_vector).ravel()\n",
    "\n",
    "f'accuracy = {sum([tp,tn])/sum([tn,fp,fn,tp]):.3f}'"
   ]
  },
  {
   "cell_type": "code",
   "execution_count": 111,
   "id": "9afb1f9e",
   "metadata": {},
   "outputs": [],
   "source": [
    "main_films = requests.get('https://imsdb.com/all-scripts.html').text\n",
    "main_films = BeautifulSoup(main_films, 'html.parser')"
   ]
  },
  {
   "cell_type": "code",
   "execution_count": 112,
   "id": "f16cda1c",
   "metadata": {},
   "outputs": [],
   "source": [
    "script_urls = [ ]\n",
    "for i in main_films.find_all('a'):\n",
    "    if '/Movie Scripts/' in i['href']:\n",
    "        if i.text.strip(' ,The').upper() not in passes_bechdel_one:\n",
    "            url = 'https://imsdb.com'+str(i['href'])\n",
    "            script_urls.append(url)"
   ]
  },
  {
   "cell_type": "code",
   "execution_count": 113,
   "id": "1c331f76",
   "metadata": {},
   "outputs": [
    {
     "data": {
      "text/plain": [
       "'RESERVOIR DOGS SCRIP'"
      ]
     },
     "execution_count": 113,
     "metadata": {},
     "output_type": "execute_result"
    }
   ],
   "source": [
    "script_urls[0].split('/')[-1].strip('.html').strip(', The').upper()"
   ]
  },
  {
   "cell_type": "code",
   "execution_count": 114,
   "id": "31f71222",
   "metadata": {},
   "outputs": [],
   "source": [
    "'https://imsdb.com/Movie%20Scripts/Four%20Rooms%20Script.html'\n",
    "def get_script(parent_page):\n",
    "    '''gets script form parent html (script page \n",
    "    rather thatn script itself)'''\n",
    "    one_film = requests.get(parent_page).text\n",
    "    one_film = BeautifulSoup(one_film, 'html.parser')\n",
    "    for i in one_film.find_all('a'):\n",
    "        if 'Read' in i.text:\n",
    "            # get one script\n",
    "            one_script = requests.get(\n",
    "                'https://imsdb.com/Movie Scripts'+i['href']).text\n",
    "            return BeautifulSoup(one_script, 'html.parser')\n",
    "        "
   ]
  },
  {
   "cell_type": "markdown",
   "id": "ab7264f6",
   "metadata": {},
   "source": [
    "#### probably a bit exagerated on the evasion of web crawl blocking but illustrates  some techniques for this"
   ]
  },
  {
   "cell_type": "code",
   "execution_count": null,
   "id": "8f6ea80e",
   "metadata": {},
   "outputs": [
    {
     "name": "stderr",
     "output_type": "stream",
     "text": [
      "\r",
      "  0%|                                                     | 0/9 [00:00<?, ?it/s]"
     ]
    },
    {
     "name": "stdout",
     "output_type": "stream",
     "text": [
      "HARRY POTTER AND THE HALF-BLOOD PRINCE SCRIP not parsed\n",
      "WHAT ABOUT BOB? SCRIP not parsed\n",
      "DONNIE DARKO SCRIP not parsed\n",
      "EYES WIDE SHUT SCRIP not parsed\n",
      "BATMAN FOREVER SCRIP not parsed\n"
     ]
    },
    {
     "name": "stderr",
     "output_type": "stream",
     "text": [
      "\r",
      " 11%|█████                                        | 1/9 [00:51<06:52, 51.58s/it]"
     ]
    },
    {
     "name": "stdout",
     "output_type": "stream",
     "text": [
      "LETHAL WEAPON SCRIP not parsed\n",
      "CASABLANCA SCRIP not parsed\n",
      "VALENTINE'S DAY SCRIP not parsed\n",
      "HARRY POTTER AND THE SORCERER'S STONE SCRIP not parsed\n"
     ]
    },
    {
     "name": "stderr",
     "output_type": "stream",
     "text": [
      "\r",
      " 22%|██████████                                   | 2/9 [02:49<08:21, 71.61s/it]"
     ]
    },
    {
     "name": "stdout",
     "output_type": "stream",
     "text": [
      "EXECUTIVE DECISION SCRIP not parsed\n",
      "BATMAN RETURNS SCRIP not parsed\n",
      "BATMAN BEGINS SCRIP not parsed\n",
      "HARRY POTTER AND THE DEATHLY HALLOWS PART 1 SCRIP not parsed\n",
      "LETHAL WEAPON 4 SCRIP not parsed\n"
     ]
    },
    {
     "name": "stderr",
     "output_type": "stream",
     "text": [
      "\r",
      " 33%|███████████████                              | 3/9 [04:45<08:29, 84.84s/it]"
     ]
    },
    {
     "name": "stdout",
     "output_type": "stream",
     "text": [
      "INNERSPACE SCRIP not parsed\n",
      "OUTBREAK SCRIP not parsed\n",
      "WHO FRAMED ROGER RABBIT? SCRIP not parsed\n"
     ]
    }
   ],
   "source": [
    "script_urls = np.array(script_urls)\n",
    "# random shuffle urls array so (evasion of blocking)\n",
    "np.random.shuffle(script_urls)\n",
    "constant = 100\n",
    "#batching scripts into 100 to take a \n",
    "#longer break of random time every 100 scrapes\n",
    "batches = [script_urls[i-constant:i] \n",
    "           for i in range(constant,len(script_urls),constant)]\n",
    "\n",
    "new_scripts =  { }\n",
    "for batch in tqdm(batches):\n",
    "    # random sleep of uniform probability (evasion of blocking)\n",
    "    sleep_for = sum(np.random.random_sample(0.5))\n",
    "    for url in batch:\n",
    "        # micro sleep to emulate unpredictabel behaviour\n",
    "        time.sleep(sleep_for)\n",
    "        title = url.split('/')[-1].strip('.html').strip(', The').upper()\n",
    "        # try as some pages migh be irregular/not parsed etc\n",
    "        try:\n",
    "            script = clean(get_script(url))\n",
    "            new_scripts[title]=script\n",
    "        except:\n",
    "            print(title, 'not parsed')"
   ]
  },
  {
   "cell_type": "code",
   "execution_count": 66,
   "id": "56cb9abd",
   "metadata": {},
   "outputs": [
    {
     "data": {
      "text/plain": [
       "865"
      ]
     },
     "execution_count": 66,
     "metadata": {},
     "output_type": "execute_result"
    }
   ],
   "source": [
    "len(new_scripts)"
   ]
  },
  {
   "cell_type": "code",
   "execution_count": 71,
   "id": "62191358",
   "metadata": {},
   "outputs": [],
   "source": [
    "new_script = {key.replace('THE SCRIP','').replace('SCRIP',''):new_scripts[key] for key in new_scripts}"
   ]
  },
  {
   "cell_type": "code",
   "execution_count": 76,
   "id": "58a4aac1",
   "metadata": {},
   "outputs": [],
   "source": [
    "all_scripts = {**names_dict, **new_script}\n",
    "print(f'there are now {len(all_scripts)} scripts scraped')\n",
    "passes_bechdel_one = {title:any(list(bechdel_one(all_scripts[title],fem_first))) for title in all_scripts}"
   ]
  },
  {
   "cell_type": "code",
   "execution_count": 77,
   "id": "f50b08e8",
   "metadata": {},
   "outputs": [
    {
     "data": {
      "text/plain": [
       "750"
      ]
     },
     "execution_count": 77,
     "metadata": {},
     "output_type": "execute_result"
    },
    {
     "data": {
      "image/png": "[encoded data removed]",
      "text/plain": [
       "<Figure size 432x288 with 1 Axes>"
      ]
     },
     "metadata": {
      "needs_background": "light"
     },
     "output_type": "display_data"
    }
   ],
   "source": [
    "passes_one_vector = np.array([passes_bechdel_one[key] for key in passes_bechdel_one])\n",
    "#convert bools to ints\n",
    "passes_one_vector = passes_one_vector.astype(int)\n",
    "len(passes_one_vector)\n",
    "plt.bar(['does not pass','passes'],np.bincount(passes_one_vector))\n",
    "np.count_nonzero(passes_one_vector)"
   ]
  },
  {
   "cell_type": "code",
   "execution_count": 81,
   "id": "fcd69516",
   "metadata": {},
   "outputs": [
    {
     "data": {
      "text/plain": [
       "<BarContainer object of 2 artists>"
      ]
     },
     "execution_count": 81,
     "metadata": {},
     "output_type": "execute_result"
    },
    {
     "data": {
      "image/png": "[encoded data removed]",
      "text/plain": [
       "<Figure size 432x288 with 1 Axes>"
      ]
     },
     "metadata": {
      "needs_background": "light"
     },
     "output_type": "display_data"
    }
   ],
   "source": [
    "pass_all_vector = np.array([i in titles_that_pass for i in all_scripts]).astype(int)\n",
    "plt.bar(['does not pass','passes'],np.bincount(pass_all_vector))"
   ]
  },
  {
   "cell_type": "code",
   "execution_count": 82,
   "id": "02344e61",
   "metadata": {},
   "outputs": [
    {
     "data": {
      "text/plain": [
       "'R value = -0.023 P value 0.427'"
      ]
     },
     "execution_count": 82,
     "metadata": {},
     "output_type": "execute_result"
    }
   ],
   "source": [
    "pearson_r, p_val = stats.pearsonr(passes_one_vector,pass_all_vector)\n",
    "f'R value = {pearson_r:.3f} P value {p_val:.3f}'"
   ]
  },
  {
   "cell_type": "code",
   "execution_count": 83,
   "id": "ab4da11e",
   "metadata": {},
   "outputs": [
    {
     "data": {
      "text/plain": [
       "' Mathews coef = -0.023'"
      ]
     },
     "execution_count": 83,
     "metadata": {},
     "output_type": "execute_result"
    }
   ],
   "source": [
    "f' Mathews coef = {matthews_corrcoef(pass_all_vector,passes_one_vector):.3f}'"
   ]
  },
  {
   "cell_type": "code",
   "execution_count": 84,
   "id": "cd9b33fe",
   "metadata": {},
   "outputs": [
    {
     "data": {
      "text/plain": [
       "' Jackards Dist = 0.935'"
      ]
     },
     "execution_count": 84,
     "metadata": {},
     "output_type": "execute_result"
    }
   ],
   "source": [
    "f' Jackards Dist = {distance.jaccard(pass_all_vector,passes_one_vector):.3f}'"
   ]
  },
  {
   "cell_type": "code",
   "execution_count": null,
   "id": "7adc0708",
   "metadata": {},
   "outputs": [],
   "source": []
  },
  {
   "cell_type": "code",
   "execution_count": null,
   "id": "83ed608c",
   "metadata": {},
   "outputs": [],
   "source": []
  }
 ],
 "metadata": {
  "kernelspec": {
   "display_name": "Python 3 (ipykernel)",
   "language": "python",
   "name": "python3"
  },
  "language_info": {
   "codemirror_mode": {
    "name": "ipython",
    "version": 3
   },
   "file_extension": ".py",
   "mimetype": "text/x-python",
   "name": "python",
   "nbconvert_exporter": "python",
   "pygments_lexer": "ipython3",
   "version": "3.9.10"
  }
 },
 "nbformat": 4,
 "nbformat_minor": 5
}
